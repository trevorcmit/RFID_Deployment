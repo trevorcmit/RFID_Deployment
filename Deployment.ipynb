{
 "cells": [
  {
   "cell_type": "code",
   "execution_count": null,
   "metadata": {},
   "outputs": [],
   "source": [
    "import numpy as np\n",
    "import matplotlib.pyplot as plt\n",
    "import csv\n",
    "import datetime"
   ]
  },
  {
   "cell_type": "code",
   "execution_count": null,
   "metadata": {},
   "outputs": [],
   "source": [
    "# Dictionary that Names should be entered into\n",
    "\n",
    "people_map = [\n",
    "    \"\",  # 1\n",
    "    \"\",  # 2\n",
    "    \"\",  # 3\n",
    "    \"\",  # 4\n",
    "    \"\",  # 5\n",
    "    \"\",  # 6\n",
    "    \"\",  # 7\n",
    "    \"\",  # 8\n",
    "    \"\",  # 9\n",
    "    \"\",  # 10\n",
    "    \"\",  # 11\n",
    "    \"\",  # 12\n",
    "    \"\",  # 13\n",
    "    \"\",  # 14\n",
    "    \"\",  # 15\n",
    "    \"\",  # 16\n",
    "    \"\",  # 17\n",
    "    \"\",  # 18\n",
    "    \"\",  # 19\n",
    "    \"\",  # 20\n",
    "    \"\",  # 21\n",
    "    \"\",  # 22\n",
    "    \"\",  # 23\n",
    "    \"\",  # 24\n",
    "    \"\",  # 25\n",
    "    \"\",  # 26\n",
    "    \"\",  # 27\n",
    "    \"\",  # 28\n",
    "    \"\",  # 29\n",
    "    \"\",  # 30\n",
    "]\n",
    "\n"
   ]
  }
 ],
 "metadata": {
  "kernelspec": {
   "display_name": "Python 3",
   "language": "python",
   "name": "python3"
  },
  "language_info": {
   "name": "python",
   "version": "3.8.1 (tags/v3.8.1:1b293b6, Dec 18 2019, 23:11:46) [MSC v.1916 64 bit (AMD64)]"
  },
  "orig_nbformat": 4,
  "vscode": {
   "interpreter": {
    "hash": "3564471f34e42ee08001168fcdc39b80aa763f352c7baf85b2e78fe67d0c3b26"
   }
  }
 },
 "nbformat": 4,
 "nbformat_minor": 2
}
