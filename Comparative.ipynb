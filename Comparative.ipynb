{
 "cells": [
  {
   "cell_type": "code",
   "execution_count": 1,
   "metadata": {},
   "outputs": [
    {
     "name": "stderr",
     "output_type": "stream",
     "text": [
      "c:\\Users\\trevo\\AppData\\Local\\Programs\\Python\\Python38\\lib\\site-packages\\numpy\\_distributor_init.py:30: UserWarning: loaded more than 1 DLL from .libs:\n",
      "c:\\Users\\trevo\\AppData\\Local\\Programs\\Python\\Python38\\lib\\site-packages\\numpy\\.libs\\libopenblas.WCDJNK7YVMPZQ2ME2ZZHJJRJ3JIKNDB7.gfortran-win_amd64.dll\n",
      "c:\\Users\\trevo\\AppData\\Local\\Programs\\Python\\Python38\\lib\\site-packages\\numpy\\.libs\\libopenblas.XWYDX2IKJW2NMTWSFYNGFUWKQU3LYTCZ.gfortran-win_amd64.dll\n",
      "  warnings.warn(\"loaded more than 1 DLL from .libs:\"\n"
     ]
    }
   ],
   "source": [
    "import numpy as np\n",
    "import matplotlib.pyplot as plt\n",
    "import csv\n",
    "import datetime"
   ]
  },
  {
   "cell_type": "code",
   "execution_count": 2,
   "metadata": {},
   "outputs": [],
   "source": [
    "def open_file_make_dataset_tag3(filename:str):\n",
    "    with open(filename, 'r') as file:\n",
    "        reader = csv.reader(file)\n",
    "\n",
    "        data = []             # Initialize empty list\n",
    "        database = dict()\n",
    "        recent_EPC = ''\n",
    "        Time_Or_Data = True   # Time is true, Data is false\n",
    "\n",
    "        for l in reader:\n",
    "            line = l[0]\n",
    "         \n",
    "            if len(line)==24: # If it is an EPC\n",
    "                database[line] = [[],[]]\n",
    "                recent_EPC = line\n",
    "            \n",
    "            elif line == '[':\n",
    "                data = []\n",
    "\n",
    "            elif line == ']': # End of list\n",
    "                if len(data)!=0:\n",
    "                    if Time_Or_Data:\n",
    "                        database[recent_EPC][0] = data\n",
    "                        Time_Or_Data = False\n",
    "                    else:\n",
    "                        database[recent_EPC][1] = data\n",
    "                        Time_Or_Data = True\n",
    "                data = []\n",
    "\n",
    "            elif len(line)==8: # If it is a time stamp\n",
    "                h,m,s = line.split(':')\n",
    "\n",
    "                if int(h)>22:\n",
    "                    day=1\n",
    "                else:\n",
    "                    day=2\n",
    "\n",
    "                data.append(datetime.datetime(1900, 1, day,int(h),int(m),int(s)))\n",
    "        \n",
    "            elif line ==' ':\n",
    "                pass\n",
    "\n",
    "            else: # If it is a data point\n",
    "                try:\n",
    "                    data.append(float(line))\n",
    "                except:\n",
    "                    pass\n",
    "        return database"
   ]
  },
  {
   "cell_type": "code",
   "execution_count": 3,
   "metadata": {},
   "outputs": [],
   "source": [
    "def open_file_make_dataset(filename:str):\n",
    "    with open(filename, 'r') as file:\n",
    "        reader = csv.reader(file)\n",
    "\n",
    "        data = []             # Initialize empty list\n",
    "        database = dict()\n",
    "        recent_EPC = ''\n",
    "        Time_Or_Data = True   # Time is true, Data is false\n",
    "\n",
    "        for l in reader:\n",
    "            line = l[0]\n",
    "         \n",
    "            if len(line)==24: # If it is an EPC\n",
    "                database[line] = [[],[]]\n",
    "                recent_EPC = line\n",
    "            \n",
    "            elif line == '[':\n",
    "                data = []\n",
    "\n",
    "            elif line == ']': # End of list\n",
    "                if len(data)!=0:\n",
    "                    if Time_Or_Data:\n",
    "                        database[recent_EPC][0] = data\n",
    "                        Time_Or_Data = False\n",
    "                    else:\n",
    "                        database[recent_EPC][1] = data\n",
    "                        Time_Or_Data = True\n",
    "                data = []\n",
    "\n",
    "            elif len(line)==8: # If it is a time stamp\n",
    "                h,m,s = line.split(':')\n",
    "                day = 1\n",
    "                data.append(datetime.datetime(1900, 1, day,int(h),int(m),int(s)))\n",
    "        \n",
    "            elif line ==' ':\n",
    "                pass\n",
    "\n",
    "            else: # If it is a data point\n",
    "                try:\n",
    "                    data.append(float(line))\n",
    "                except:\n",
    "                    pass\n",
    "        return database"
   ]
  },
  {
   "cell_type": "code",
   "execution_count": 4,
   "metadata": {},
   "outputs": [],
   "source": [
    "tags3 = open_file_make_dataset_tag3('Tag_Text_Files/tags3.txt')\n",
    "tags2 = open_file_make_dataset('Tag_Text_Files/tags2.txt')\n",
    "tagsbothRT = open_file_make_dataset('Tag_Text_Files/tags(both at RT)_1.txt')\n",
    "tags1a5d = open_file_make_dataset('Tag_Text_Files/tags(both at RT)(1s Active,5s Down) complete.txt')"
   ]
  },
  {
   "cell_type": "code",
   "execution_count": 5,
   "metadata": {},
   "outputs": [],
   "source": [
    "count_tags3 = 0\n",
    "for k,v in tags3.items():\n",
    "    for i in v[0]:\n",
    "        if i < datetime.datetime(1900, 1, 2, 1, 0, 0):\n",
    "            count_tags3 += 1"
   ]
  },
  {
   "cell_type": "code",
   "execution_count": 6,
   "metadata": {},
   "outputs": [],
   "source": [
    "count_tags1a5d = 0\n",
    "for k,v in tags1a5d.items():\n",
    "    for i in v[0]:\n",
    "        if i < datetime.datetime(1900, 1, 1, 14, 30, 0):\n",
    "            count_tags1a5d += 1"
   ]
  },
  {
   "cell_type": "code",
   "execution_count": 7,
   "metadata": {},
   "outputs": [],
   "source": [
    "count_tags2 = 0\n",
    "for k,v in tags2.items():\n",
    "    for i in v[0]:\n",
    "        if i < datetime.datetime(1900, 1, 1, 10, 10, 0):\n",
    "            count_tags2 += 1"
   ]
  },
  {
   "cell_type": "code",
   "execution_count": 8,
   "metadata": {},
   "outputs": [],
   "source": [
    "count_tagsbothRT = 0\n",
    "for k,v in tagsbothRT.items():\n",
    "    for i in v[0]:\n",
    "        if i < datetime.datetime(1900, 1, 1, 5, 50, 0):\n",
    "            count_tagsbothRT += 1"
   ]
  },
  {
   "cell_type": "code",
   "execution_count": 9,
   "metadata": {},
   "outputs": [
    {
     "name": "stdout",
     "output_type": "stream",
     "text": [
      "84142\n",
      "88519\n",
      "14442\n",
      "125736\n"
     ]
    }
   ],
   "source": [
    "print(count_tags3)\n",
    "print(count_tags2)\n",
    "print(count_tagsbothRT)\n",
    "print(count_tags1a5d)"
   ]
  }
 ],
 "metadata": {
  "kernelspec": {
   "display_name": "Python 3",
   "language": "python",
   "name": "python3"
  },
  "language_info": {
   "codemirror_mode": {
    "name": "ipython",
    "version": 3
   },
   "file_extension": ".py",
   "mimetype": "text/x-python",
   "name": "python",
   "nbconvert_exporter": "python",
   "pygments_lexer": "ipython3",
   "version": "3.8.1"
  },
  "orig_nbformat": 4,
  "vscode": {
   "interpreter": {
    "hash": "3564471f34e42ee08001168fcdc39b80aa763f352c7baf85b2e78fe67d0c3b26"
   }
  }
 },
 "nbformat": 4,
 "nbformat_minor": 2
}
